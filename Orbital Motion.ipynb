{
 "cells": [
  {
   "cell_type": "code",
   "execution_count": 1,
   "metadata": {},
   "outputs": [],
   "source": [
    "import numpy as np\n",
    "import matplotlib.pyplot as plt\n",
    "import math as m"
   ]
  },
  {
   "cell_type": "code",
   "execution_count": 5,
   "metadata": {},
   "outputs": [],
   "source": [
    "x=np.zeros(10000)\n",
    "y=np.zeros(10000)\n",
    "v=np.zeros(10000)\n",
    "vx=np.zeros(10000)\n",
    "vy=np.zeros(10000)\n",
    "r=np.zeros(10000)\n",
    "T=np.zeros(10000)"
   ]
  },
  {
   "cell_type": "code",
   "execution_count": 6,
   "metadata": {},
   "outputs": [],
   "source": [
    "x[0]=.47\n",
    "y[0]=0\n",
    "r[0]=np.sqrt(x[0]**2+y[0]**2)\n",
    "vx[0]=0\n",
    "vy[0]=8.2\n",
    "T[0]=0\n",
    "alpha=1.1*10**-8\n",
    "G=4*m.pi**2\n",
    "dt=.00015\n",
    "Th=np.zeros(100)\n",
    "TTh=np.zeros(100)\n",
    "j=0"
   ]
  },
  {
   "cell_type": "code",
   "execution_count": 7,
   "metadata": {},
   "outputs": [],
   "source": [
    "for i in range(0,9999):\n",
    "    vx[i+1]=vx[i]-G*(1+alpha/r[i]**2)*(x[i]/r[i]**3)*dt\n",
    "    x[i+1]=x[i]+vx[i+1]*dt\n",
    "    vy[i+1]=vy[i]-G*(1+alpha/r[i]**2)*(y[i]/r[i]**3)*dt\n",
    "    y[i+1]=y[i]+vy[i+1]*dt\n",
    "    r[i+1]=np.sqrt(x[i+1]**2+y[i+1]**2)\n",
    "    T[i+1]=T[i]+dt\n",
    "    if r[i-1]>r[i] and r[i+1]>r[i]:\n",
    "        Th[j]=np.arctan(y[i]/x[i])\n",
    "        TTh[j]=T[i]\n",
    "        j+=1"
   ]
  },
  {
   "cell_type": "code",
   "execution_count": 8,
   "metadata": {},
   "outputs": [
    {
     "data": {
      "text/plain": [
       "Text(0, 0.5, 'Y Axis')"
      ]
     },
     "execution_count": 8,
     "metadata": {},
     "output_type": "execute_result"
    },
    {
     "data": {
      "image/png": "[encoded data removed]",
      "text/plain": [
       "<Figure size 432x288 with 1 Axes>"
      ]
     },
     "metadata": {
      "needs_background": "light"
     },
     "output_type": "display_data"
    }
   ],
   "source": [
    "plt.plot(x,y)\n",
    "plt.title(\"Obit of Mercury Around the Sun\")\n",
    "plt.xlabel(\"X Axis\")\n",
    "plt.ylabel(\"Y Axis\")"
   ]
  },
  {
   "cell_type": "code",
   "execution_count": null,
   "metadata": {},
   "outputs": [],
   "source": []
  }
 ],
 "metadata": {
  "kernelspec": {
   "display_name": "Python 3",
   "language": "python",
   "name": "python3"
  },
  "language_info": {
   "codemirror_mode": {
    "name": "ipython",
    "version": 3
   },
   "file_extension": ".py",
   "mimetype": "text/x-python",
   "name": "python",
   "nbconvert_exporter": "python",
   "pygments_lexer": "ipython3",
   "version": "3.8.3"
  }
 },
 "nbformat": 4,
 "nbformat_minor": 4
}
